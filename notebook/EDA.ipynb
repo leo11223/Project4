{
 "cells": [
  {
   "cell_type": "code",
   "execution_count": 1,
   "metadata": {},
   "outputs": [],
   "source": [
    "import pandas as pd\n",
    "import streamlit as st\n",
    "import plotly_express as px"
   ]
  },
  {
   "cell_type": "code",
   "execution_count": 2,
   "metadata": {},
   "outputs": [],
   "source": [
    "df = pd.read_csv('/Users/chaoli/Downloads/Project4/vehicles_us.csv')\n",
    "df['manufacturer'] = df['model'].apply(lambda x: x.split()[0])"
   ]
  },
  {
   "cell_type": "code",
   "execution_count": 3,
   "metadata": {},
   "outputs": [
    {
     "data": {
      "text/plain": [
       "0"
      ]
     },
     "metadata": {},
     "output_type": "display_data"
    },
    {
     "name": "stderr",
     "output_type": "stream",
     "text": [
      "2022-12-12 18:35:03.026 \n",
      "  \u001b[33m\u001b[1mWarning:\u001b[0m to view this Streamlit app on a browser, run it with the following\n",
      "  command:\n",
      "\n",
      "    streamlit run /Users/chaoli/opt/anaconda3/lib/python3.9/site-packages/ipykernel_launcher.py [ARGUMENTS]\n"
     ]
    },
    {
     "data": {
      "text/plain": [
       "DeltaGenerator(_root_container=0, _provided_cursor=None, _parent=None, _block_type=None, _form_data=None)"
      ]
     },
     "execution_count": 3,
     "metadata": {},
     "output_type": "execute_result"
    }
   ],
   "source": [
    "display(df.duplicated().sum())\n",
    "# create a text header above the dataframe\n",
    "st.header('Data viewer') \n",
    "# display the dataframe with streamlit\n",
    "st.dataframe(df)"
   ]
  },
  {
   "cell_type": "code",
   "execution_count": 4,
   "metadata": {},
   "outputs": [],
   "source": [
    "st.header('Vehicle types by manufacturer')\n",
    "# create a plotly histogram figure\n",
    "fig = px.histogram(df, x='manufacturer', color='type')\n",
    "# display the figure with streamlit\n",
    "st.write(fig)"
   ]
  },
  {
   "cell_type": "code",
   "execution_count": 5,
   "metadata": {},
   "outputs": [],
   "source": [
    "st.header('Histogram of `condition` vs `model_year`')\n",
    "fig = px.histogram(df, x='model_year', color='condition')\n",
    "st.write(fig)"
   ]
  },
  {
   "cell_type": "code",
   "execution_count": 6,
   "metadata": {},
   "outputs": [],
   "source": [
    "st.header('Compare price distribution between manufacturers')\n",
    "# get a list of car manufacturers\n",
    "manufac_list = sorted(df['manufacturer'].unique())\n",
    "# get user's inputs from a dropdown menu\n",
    "manufacturer_1 = st.selectbox(\n",
    "                              label='Select manufacturer 1', # title of the select box\n",
    "                              options=manufac_list, # options listed in the select box\n",
    "                              index=manufac_list.index('chevrolet') # default pre-selected option\n",
    "                              )\n",
    "# repeat for the second dropdown menu\n",
    "manufacturer_2 = st.selectbox(\n",
    "                              label='Select manufacturer 2',\n",
    "                              options=manufac_list, \n",
    "                              index=manufac_list.index('hyundai')\n",
    "                              )\n",
    "# filter the dataframe \n",
    "mask_filter = (df['manufacturer'] == manufacturer_1) | (df['manufacturer'] == manufacturer_2)\n",
    "df_filtered = df[mask_filter]\n",
    "\n",
    "# add a checkbox if a user wants to normalize the histogram\n",
    "normalize = st.checkbox('Normalize histogram', value=True)\n",
    "if normalize:\n",
    "    histnorm = 'percent'\n",
    "else:\n",
    "    histnorm = None\n",
    "\n",
    "# create a plotly histogram figure\n",
    "fig = px.histogram(df_filtered,\n",
    "                      x='price',\n",
    "                      nbins=30,\n",
    "                      color='manufacturer',\n",
    "                      histnorm=histnorm,\n",
    "                      barmode='overlay')\n",
    "# display the figure with streamlit\n",
    "st.write(fig)"
   ]
  },
  {
   "cell_type": "code",
   "execution_count": null,
   "metadata": {},
   "outputs": [],
   "source": []
  }
 ],
 "metadata": {
  "kernelspec": {
   "display_name": "base",
   "language": "python",
   "name": "python3"
  },
  "language_info": {
   "codemirror_mode": {
    "name": "ipython",
    "version": 3
   },
   "file_extension": ".py",
   "mimetype": "text/x-python",
   "name": "python",
   "nbconvert_exporter": "python",
   "pygments_lexer": "ipython3",
   "version": "3.9.13"
  },
  "orig_nbformat": 4,
  "vscode": {
   "interpreter": {
    "hash": "b9a832dad30e069546b02bf3adfecf37faf7b677e6af12f00429d91779e0a95d"
   }
  }
 },
 "nbformat": 4,
 "nbformat_minor": 2
}
